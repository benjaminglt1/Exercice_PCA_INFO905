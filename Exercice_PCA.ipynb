{
 "cells": [
  {
   "cell_type": "markdown",
   "id": "f17202ce",
   "metadata": {},
   "source": [
    "# Analyse en composantes principales #\n",
    "## I) Introduction ##\n",
    "Principal component analysis (PCA) est un outil qui permet de trouver des relations importantes dans les données et de rajouter des features plus importantes.\n",
    "\n",
    "Cette méthode d'analyse de données consiste à transformer des variables qui sont corrélées en nouvelles variables décorrélées les unes des autres. Ces nouvelles variables sont nommées <strong>composantes principales</strong>. Elle permet de réduire le nombre de variables et de rendre l'information moins redondante."
   ]
  },
  {
   "cell_type": "markdown",
   "id": "491e17e8",
   "metadata": {},
   "source": [
    "## II) Les données"
   ]
  },
  {
   "cell_type": "markdown",
   "id": "28929c7a",
   "metadata": {},
   "source": [
    "## III) Setup\n",
    "Run la cellule suivante pour setup le système, importer les données et les standardiser"
   ]
  },
  {
   "cell_type": "code",
   "execution_count": 131,
   "id": "3002ad38",
   "metadata": {},
   "outputs": [],
   "source": [
    "# Setup system\n",
    "import pandas as pd\n",
    "import numpy as np\n",
    "\n",
    "from sklearn.feature_selection import mutual_info_regression\n",
    "from sklearn.decomposition import PCA\n",
    "from sklearn import preprocessing as prepro\n",
    "\n",
    "# Import data\n",
    "df = pd.read_csv(\"Automobile_data.csv\")\n",
    "\n",
    "# Standardize\n",
    "df.dropna()\n",
    "\n",
    "df = df[df[\"normalized-losses\"] != \"?\"]\n",
    "le = prepro.LabelEncoder()\n",
    "\n",
    "le.fit(df.price)\n",
    "df.price = le.transform(df.price)\n",
    "\n",
    "le.fit(df.horsepower)\n",
    "df.horsepower = le.transform(df.horsepower)"
   ]
  },
  {
   "cell_type": "markdown",
   "id": "e11b77e4",
   "metadata": {},
   "source": [
    "## IV) Choisir les features \n",
    "Pour choisir les features, il faut prendre celles qui ont une forte correlation avec la target (`Price` ici)"
   ]
  },
  {
   "cell_type": "code",
   "execution_count": 85,
   "id": "dbffbe1a",
   "metadata": {},
   "outputs": [],
   "source": [
    "# Complete with 4 features \n",
    "\n",
    "features = [\n",
    "    #...,\n",
    "    #...,\n",
    "    #...,\n",
    "    #...,\n",
    "]"
   ]
  },
  {
   "cell_type": "code",
   "execution_count": null,
   "id": "43e3d3cd",
   "metadata": {},
   "outputs": [],
   "source": [
    "#IV_solution() #un exemple de solution"
   ]
  },
  {
   "cell_type": "markdown",
   "id": "6719fe87",
   "metadata": {},
   "source": [
    "## V) Standardiser\n",
    "Les données des features ne sont pas forcément sur la même échelle par défautl. Il faut donc les standardiser.\n",
    "\n",
    "<strong>Code :</strong>\n",
    "```python\n",
    "X = df.copy()\n",
    "y = X.pop(~~target~~)\n",
    "X = X.loc[:, features]\n",
    "\n",
    "# Standardize with same scale\n",
    "X_scaled = (X - X.mean(axis=0)) / X.std(axis=0)\n",
    "\n",
    "```"
   ]
  },
  {
   "cell_type": "code",
   "execution_count": 141,
   "id": "1d4d4e9a",
   "metadata": {},
   "outputs": [],
   "source": [
    "# à completer ici pour passer les données sur la même échelle"
   ]
  },
  {
   "cell_type": "code",
   "execution_count": 143,
   "id": "b507d5ef",
   "metadata": {},
   "outputs": [],
   "source": [
    "#V_solution() #solution"
   ]
  },
  {
   "cell_type": "markdown",
   "id": "d0c570cf",
   "metadata": {},
   "source": [
    "## VI) Composantes principales\n",
    "\n",
    "On peut maintenant à l'aide de la fonction ```fit_transform``` de ```scikit-learn's``` calculer les composantes principales des données sélectionnées."
   ]
  },
  {
   "cell_type": "code",
   "execution_count": 144,
   "id": "2c2187fa",
   "metadata": {},
   "outputs": [
    {
     "data": {
      "text/html": [
       "<div>\n",
       "<style scoped>\n",
       "    .dataframe tbody tr th:only-of-type {\n",
       "        vertical-align: middle;\n",
       "    }\n",
       "\n",
       "    .dataframe tbody tr th {\n",
       "        vertical-align: top;\n",
       "    }\n",
       "\n",
       "    .dataframe thead th {\n",
       "        text-align: right;\n",
       "    }\n",
       "</style>\n",
       "<table border=\"1\" class=\"dataframe\">\n",
       "  <thead>\n",
       "    <tr style=\"text-align: right;\">\n",
       "      <th></th>\n",
       "      <th>PC1</th>\n",
       "      <th>PC2</th>\n",
       "      <th>PC3</th>\n",
       "      <th>PC4</th>\n",
       "    </tr>\n",
       "  </thead>\n",
       "  <tbody>\n",
       "    <tr>\n",
       "      <th>0</th>\n",
       "      <td>0.399491</td>\n",
       "      <td>-1.663393</td>\n",
       "      <td>0.097344</td>\n",
       "      <td>-0.126416</td>\n",
       "    </tr>\n",
       "    <tr>\n",
       "      <th>1</th>\n",
       "      <td>1.967130</td>\n",
       "      <td>-0.816074</td>\n",
       "      <td>-0.460339</td>\n",
       "      <td>-0.143930</td>\n",
       "    </tr>\n",
       "    <tr>\n",
       "      <th>2</th>\n",
       "      <td>1.835322</td>\n",
       "      <td>-1.015616</td>\n",
       "      <td>-0.005821</td>\n",
       "      <td>0.007853</td>\n",
       "    </tr>\n",
       "    <tr>\n",
       "      <th>3</th>\n",
       "      <td>2.202958</td>\n",
       "      <td>-0.344582</td>\n",
       "      <td>-0.874640</td>\n",
       "      <td>0.301558</td>\n",
       "    </tr>\n",
       "    <tr>\n",
       "      <th>4</th>\n",
       "      <td>0.556250</td>\n",
       "      <td>-1.717534</td>\n",
       "      <td>-0.009193</td>\n",
       "      <td>-0.054153</td>\n",
       "    </tr>\n",
       "  </tbody>\n",
       "</table>\n",
       "</div>"
      ],
      "text/plain": [
       "        PC1       PC2       PC3       PC4\n",
       "0  0.399491 -1.663393  0.097344 -0.126416\n",
       "1  1.967130 -0.816074 -0.460339 -0.143930\n",
       "2  1.835322 -1.015616 -0.005821  0.007853\n",
       "3  2.202958 -0.344582 -0.874640  0.301558\n",
       "4  0.556250 -1.717534 -0.009193 -0.054153"
      ]
     },
     "execution_count": 144,
     "metadata": {},
     "output_type": "execute_result"
    }
   ],
   "source": [
    "# Create principal components\n",
    "pca = PCA()\n",
    "X_pca = pca.fit_transform(X_scaled)\n",
    "\n",
    "# Convert to dataframe\n",
    "component_names = [f\"PC{i+1}\" for i in range(X_pca.shape[1])]\n",
    "X_pca = pd.DataFrame(X_pca, columns=component_names)\n",
    "\n",
    "X_pca.head() "
   ]
  },
  {
   "cell_type": "markdown",
   "id": "4a290dd0",
   "metadata": {},
   "source": [
    "TODO explication loadings"
   ]
  },
  {
   "cell_type": "code",
   "execution_count": 113,
   "id": "d2eaa889",
   "metadata": {},
   "outputs": [
    {
     "data": {
      "text/html": [
       "<div>\n",
       "<style scoped>\n",
       "    .dataframe tbody tr th:only-of-type {\n",
       "        vertical-align: middle;\n",
       "    }\n",
       "\n",
       "    .dataframe tbody tr th {\n",
       "        vertical-align: top;\n",
       "    }\n",
       "\n",
       "    .dataframe thead th {\n",
       "        text-align: right;\n",
       "    }\n",
       "</style>\n",
       "<table border=\"1\" class=\"dataframe\">\n",
       "  <thead>\n",
       "    <tr style=\"text-align: right;\">\n",
       "      <th></th>\n",
       "      <th>PC1</th>\n",
       "      <th>PC2</th>\n",
       "      <th>PC3</th>\n",
       "      <th>PC4</th>\n",
       "    </tr>\n",
       "  </thead>\n",
       "  <tbody>\n",
       "    <tr>\n",
       "      <th>highway-mpg</th>\n",
       "      <td>-0.532996</td>\n",
       "      <td>0.069264</td>\n",
       "      <td>0.800762</td>\n",
       "      <td>0.264382</td>\n",
       "    </tr>\n",
       "    <tr>\n",
       "      <th>engine-size</th>\n",
       "      <td>0.529329</td>\n",
       "      <td>0.374257</td>\n",
       "      <td>0.507392</td>\n",
       "      <td>-0.567711</td>\n",
       "    </tr>\n",
       "    <tr>\n",
       "      <th>horsepower</th>\n",
       "      <td>-0.331804</td>\n",
       "      <td>0.893787</td>\n",
       "      <td>-0.301570</td>\n",
       "      <td>0.010320</td>\n",
       "    </tr>\n",
       "    <tr>\n",
       "      <th>curb-weight</th>\n",
       "      <td>0.570642</td>\n",
       "      <td>0.237231</td>\n",
       "      <td>0.101927</td>\n",
       "      <td>0.779551</td>\n",
       "    </tr>\n",
       "  </tbody>\n",
       "</table>\n",
       "</div>"
      ],
      "text/plain": [
       "                  PC1       PC2       PC3       PC4\n",
       "highway-mpg -0.532996  0.069264  0.800762  0.264382\n",
       "engine-size  0.529329  0.374257  0.507392 -0.567711\n",
       "horsepower  -0.331804  0.893787 -0.301570  0.010320\n",
       "curb-weight  0.570642  0.237231  0.101927  0.779551"
      ]
     },
     "execution_count": 113,
     "metadata": {},
     "output_type": "execute_result"
    }
   ],
   "source": [
    "# Create loadings\n",
    "loadings = pd.DataFrame(\n",
    "    pca.components_.T,    #transpose the matrix of loading\n",
    "    columns=component_names,    # columns are principal components\n",
    "    index=X.columns,    # rows are original features\n",
    ")\n",
    "\n",
    "loadings"
   ]
  },
  {
   "cell_type": "markdown",
   "id": "0b0af722",
   "metadata": {},
   "source": [
    "TODO explication visualisation"
   ]
  },
  {
   "cell_type": "code",
   "execution_count": 145,
   "id": "d24d7593",
   "metadata": {},
   "outputs": [
    {
     "data": {
      "text/plain": [
       "array([<AxesSubplot:title={'center':'% Explained Variance'}, xlabel='Component'>,\n",
       "       <AxesSubplot:title={'center':'% Cumulative Variance'}, xlabel='Component'>],\n",
       "      dtype=object)"
      ]
     },
     "execution_count": 145,
     "metadata": {},
     "output_type": "execute_result"
    },
    {
     "data": {
      "image/png": "[encoded data removed]",
      "text/plain": [
       "<Figure size 800x400 with 2 Axes>"
      ]
     },
     "metadata": {
      "needs_background": "light"
     },
     "output_type": "display_data"
    }
   ],
   "source": [
    "plot_variance(pca)"
   ]
  },
  {
   "cell_type": "code",
   "execution_count": 138,
   "id": "665666e5",
   "metadata": {},
   "outputs": [
    {
     "name": "stdout",
     "output_type": "stream",
     "text": [
      "# IV Solution : \n",
      "\n",
      "features = [\"highway-mpg\", \"engine-size\", \"horsepower\", \"curb-weight\"]\n",
      "\n",
      "print(\"Correlation with Price:\")\n",
      "df[features].corrwith(df.price)\n"
     ]
    }
   ],
   "source": [
    "def IV_solution():\n",
    "    print(\"# IV Solution : \\n\")\n",
    "    print(\"features = [\\\"highway-mpg\\\", \\\"engine-size\\\", \\\"horsepower\\\", \\\"curb-weight\\\"]\\n\")\n",
    "    print(\"print(\\\"Correlation with Price:\\\")\")\n",
    "    print(\"df[features].corrwith(df.price)\")\n",
    "    \n",
    "IV_solution()"
   ]
  },
  {
   "cell_type": "code",
   "execution_count": 137,
   "id": "833a9359",
   "metadata": {},
   "outputs": [
    {
     "name": "stdout",
     "output_type": "stream",
     "text": [
      "# V Solution :\n",
      "\n",
      "X = df.copy()\n",
      "y = X.pop('price')\n",
      "X = X.loc[:, features]\n",
      "\n",
      "# Standardize with same scale\n",
      "X_scaled = (X - X.mean(axis=0)) / X.std(axis=0)\n",
      "X_scaled\n"
     ]
    }
   ],
   "source": [
    "def V_solution():\n",
    "    print(\"# V Solution :\\n\")\n",
    "    \n",
    "    print(\"X = df.copy()\")\n",
    "    print(\"y = X.pop('price')\")\n",
    "    print(\"X = X.loc[:, features]\\n\")\n",
    "\n",
    "    print(\"# Standardize with same scale\")\n",
    "    print(\"X_scaled = (X - X.mean(axis=0)) / X.std(axis=0)\")\n",
    "\n",
    "    print(\"X_scaled\")\n",
    "    \n",
    "V_solution()"
   ]
  },
  {
   "cell_type": "code",
   "execution_count": null,
   "id": "c649a4c8",
   "metadata": {},
   "outputs": [],
   "source": []
  }
 ],
 "metadata": {
  "kernelspec": {
   "display_name": "Python 3 (ipykernel)",
   "language": "python",
   "name": "python3"
  },
  "language_info": {
   "codemirror_mode": {
    "name": "ipython",
    "version": 3
   },
   "file_extension": ".py",
   "mimetype": "text/x-python",
   "name": "python",
   "nbconvert_exporter": "python",
   "pygments_lexer": "ipython3",
   "version": "3.9.7"
  }
 },
 "nbformat": 4,
 "nbformat_minor": 5
}
